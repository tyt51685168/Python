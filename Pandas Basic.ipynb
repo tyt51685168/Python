{
 "cells": [
  {
   "cell_type": "code",
   "execution_count": 11,
   "metadata": {},
   "outputs": [
    {
     "name": "stdout",
     "output_type": "stream",
     "text": [
      "0    20\n",
      "1    10\n",
      "2    15\n",
      "dtype: int64\n",
      "MAX 20\n",
      "Median 15.0\n",
      "0    40\n",
      "1    20\n",
      "2    30\n",
      "dtype: int64\n",
      "0    False\n",
      "1     True\n",
      "2    False\n",
      "dtype: bool\n"
     ]
    }
   ],
   "source": [
    "import pandas as pd\n",
    "\n",
    "\n",
    "data = pd.Series([20, 10, 15])\n",
    "print(data)\n",
    "print(\"MAX\", data.max())\n",
    "print(\"Median\", data.median())\n",
    "\n",
    "data = data*2 # 所有資料 *2\n",
    "print(data)\n",
    "\n",
    "print(data == 20) # 對所有資料做是否 == 20 的判斷，回傳一個布林值 series\n"
   ]
  },
  {
   "cell_type": "code",
   "execution_count": 19,
   "metadata": {},
   "outputs": [
    {
     "name": "stdout",
     "output_type": "stream",
     "text": [
      "   name  salary\n",
      "0   Amy   30000\n",
      "1  John   50000\n",
      "2   Bob   40000\n",
      "\n",
      "\n",
      "\n",
      "0     Amy\n",
      "1    John\n",
      "2     Bob\n",
      "Name: name, dtype: object\n",
      "\n",
      "\n",
      "\n",
      "name        Amy\n",
      "salary    30000\n",
      "Name: 0, dtype: object\n"
     ]
    }
   ],
   "source": [
    "# 使用字典建立 dataframe\n",
    "data = pd.DataFrame({\n",
    "    \"name\":[\"Amy\", \"John\", \"Bob\"],  #第一欄\n",
    "    \"salary\":[30000, 50000, 40000]  #第二欄\n",
    "})\n",
    "\n",
    "print(data)\n",
    "\n",
    "print(\"\\n\\n\")\n",
    "\n",
    "\n",
    "# 取特定欄位\n",
    "print(data[\"name\"])\n",
    "\n",
    "print(\"\\n\\n\")\n",
    "\n",
    "# 取特定列\n",
    "print(data.iloc[0])\n"
   ]
  },
  {
   "cell_type": "markdown",
   "metadata": {},
   "source": [
    "# Series 操作"
   ]
  },
  {
   "cell_type": "code",
   "execution_count": 24,
   "metadata": {},
   "outputs": [
    {
     "name": "stdout",
     "output_type": "stream",
     "text": [
      "a    5\n",
      "b    4\n",
      "c   -2\n",
      "d    3\n",
      "e    7\n",
      "dtype: int64\n",
      "資料型態 int64\n",
      "資料數量 5\n",
      "資料索引 Index(['a', 'b', 'c', 'd', 'e'], dtype='object')\n"
     ]
    }
   ],
   "source": [
    "data = pd.Series([5, 4, -2, 3, 7], index = [\"a\", \"b\", \"c\", \"d\", \"e\"])\n",
    "print(data)\n",
    "\n",
    "# 資料型態\n",
    "\n",
    "print(\"資料型態\", data.dtype)\n",
    "print(\"資料數量\", data.size)\n",
    "print(\"資料索引\", data.index)"
   ]
  },
  {
   "cell_type": "code",
   "execution_count": 34,
   "metadata": {},
   "outputs": [
    {
     "name": "stdout",
     "output_type": "stream",
     "text": [
      "5 -2\n",
      "7 3\n",
      "7\n",
      "17\n",
      "3.361547262794322\n",
      "4.0\n",
      "e    7\n",
      "a    5\n",
      "b    4\n",
      "dtype: int64\n"
     ]
    }
   ],
   "source": [
    "# 取得資料：根據順序、根據索引\n",
    "data = pd.Series([5, 4, -2, 3, 7], index = [\"a\", \"b\", \"c\", \"d\", \"e\"])\n",
    "\n",
    "print(data[0], data[2])\n",
    "print(data[\"e\"], data[\"d\"])\n",
    "\n",
    "# 常用的計算\n",
    "print(data.max())\n",
    "print(data.sum())\n",
    "print(data.std())\n",
    "print(data.median())\n",
    "print(data.nlargest(3))"
   ]
  },
  {
   "cell_type": "code",
   "execution_count": 42,
   "metadata": {},
   "outputs": [
    {
     "name": "stdout",
     "output_type": "stream",
     "text": [
      "0        您好\n",
      "1    python\n",
      "2    pandas\n",
      "dtype: object\n",
      "0    2\n",
      "1    6\n",
      "2    6\n",
      "dtype: int64\n",
      "您好,Python,Pandas\n",
      "0    False\n",
      "1     True\n",
      "2     True\n",
      "dtype: bool\n",
      "0     Hello\n",
      "1    Python\n",
      "2    Pandas\n",
      "dtype: object\n"
     ]
    }
   ],
   "source": [
    "# 字串運算\n",
    "\n",
    "data = pd.Series([\"您好\", \"Python\", \"Pandas\"])\n",
    "\n",
    "# 全部變小寫\n",
    "print(data.str.lower())\n",
    "\n",
    "# 算字串長度\n",
    "print(data.str.len())\n",
    "\n",
    "# 字串全部串起來，並透過分隔符號分割\n",
    "print(data.str.cat(sep = \",\"))\n",
    "\n",
    "# 字串是否包含 xxx 字元\n",
    "print(data.str.contains(\"P\"))\n",
    "\n",
    "# 取代字串\n",
    "print(data.str.replace(\"您好\", \"Hello\"))"
   ]
  },
  {
   "cell_type": "code",
   "execution_count": 69,
   "metadata": {},
   "outputs": [
    {
     "name": "stdout",
     "output_type": "stream",
     "text": [
      "0    30\n",
      "2    20\n",
      "dtype: int64\n"
     ]
    }
   ],
   "source": [
    "# 篩選\n",
    "data = pd.Series([30, 15, 20])\n",
    "condition = data > 18 # 回傳 [True, False, True] 的 Series \n",
    "filteredData = data[condition]\n",
    "\n",
    "print(filteredData)"
   ]
  },
  {
   "cell_type": "markdown",
   "metadata": {},
   "source": [
    "# Dataframe 操作"
   ]
  },
  {
   "cell_type": "code",
   "execution_count": 67,
   "metadata": {},
   "outputs": [
    {
     "name": "stdout",
     "output_type": "stream",
     "text": [
      "資料數量 6\n",
      "資料形狀 (列, 欄) (3, 2)\n",
      "資料索引 Index(['a', 'b', 'c'], dtype='object')\n",
      "-------------\n",
      "取得第二列\n",
      "name        Bob\n",
      "salary    50000\n",
      "Name: b, dtype: object\n",
      "-------------\n",
      "取得第c列\n",
      "name      Charles\n",
      "salary      40000\n",
      "Name: c, dtype: object\n",
      "-------------\n",
      "取得 name 欄位\n",
      "a        Amy\n",
      "b        Bob\n",
      "c    Charles\n",
      "Name: name, dtype: object\n",
      "-------------\n",
      "把 name 全部轉為大寫\n",
      "a        AMY\n",
      "b        BOB\n",
      "c    CHARLES\n",
      "Name: name, dtype: object\n",
      "薪水的平均值 40000.0\n",
      "      name  salary  revenue  rank         cp\n",
      "a      Amy   30000   500000     1  16.666667\n",
      "b      Bob   50000   400000     2   8.000000\n",
      "c  Charles   40000   300000     3   7.500000\n"
     ]
    }
   ],
   "source": [
    "import pandas as pd\n",
    "\n",
    "data = pd.DataFrame({\n",
    "    \"name\":[\"Amy\", \"Bob\", \"Charles\"],\n",
    "    \"salary\":[30000, 50000, 40000]\n",
    "}, index = [\"a\", \"b\", \"c\"])\n",
    "\n",
    "# 觀察資料\n",
    "print(\"資料數量\", data.size)\n",
    "print(\"資料形狀 (列, 欄)\", data.shape)\n",
    "print(\"資料索引\", data.index)\n",
    "\n",
    "print(\"-------------\")\n",
    "\n",
    "# 取得列\n",
    "print(\"取得第二列\", data.iloc[1], sep = \"\\n\")\n",
    "\n",
    "print(\"-------------\")\n",
    "\n",
    "print(\"取得第c列\", data.loc[\"c\"], sep = \"\\n\")\n",
    "\n",
    "print(\"-------------\")\n",
    "\n",
    "# 取得欄\n",
    "print(\"取得 name 欄位\", data[\"name\"], sep = \"\\n\")\n",
    "\n",
    "print(\"-------------\")\n",
    "\n",
    "names = data[\"name\"] # 取得單維度的 Series 資料\n",
    "print(\"把 name 全部轉為大寫\", names.str.upper(), sep = \"\\n\")\n",
    "\n",
    "salaries = data[\"salary\"]\n",
    "print(\"薪水的平均值\", salaries.mean())\n",
    "\n",
    "# 建立新的欄位\n",
    "data[\"revenue\"] = [500000, 400000, 300000] # data[新欄位名稱] = list\n",
    "data[\"rank\"] = pd.Series([1, 2, 3], index = [\"a\", \"b\", \"c\"]) # 要指定對應的 index\n",
    "data[\"cp\"] = data[\"revenue\"] / data[\"salary\"]\n",
    "print(data)"
   ]
  },
  {
   "cell_type": "code",
   "execution_count": 102,
   "metadata": {},
   "outputs": [
    {
     "ename": "SyntaxError",
     "evalue": "invalid syntax (<ipython-input-102-e6f0e4c9f864>, line 15)",
     "output_type": "error",
     "traceback": [
      "\u001b[1;36m  File \u001b[1;32m\"<ipython-input-102-e6f0e4c9f864>\"\u001b[1;36m, line \u001b[1;32m15\u001b[0m\n\u001b[1;33m    data,iloc[]\u001b[0m\n\u001b[1;37m              ^\u001b[0m\n\u001b[1;31mSyntaxError\u001b[0m\u001b[1;31m:\u001b[0m invalid syntax\n"
     ]
    }
   ],
   "source": [
    "# 篩選\n",
    "data = pd.DataFrame({\n",
    "    \"name\":[\"Amy\", \"Bob\", \"Charles\"],\n",
    "    \"salary\":[30000, 50000, 40000]\n",
    "})\n",
    "\n",
    "condition = [False, True, True]\n",
    "filteredData = data[condition]\n",
    "print(filteredData)\n",
    "\n",
    "condition = data[\"salary\"] >= 40000\n",
    "filteredData = data[condition]\n",
    "print(filteredData)"
   ]
  },
  {
   "cell_type": "markdown",
   "metadata": {},
   "source": [
    "# Pands 練習：清理 Google play store 資料"
   ]
  },
  {
   "cell_type": "code",
   "execution_count": 138,
   "metadata": {},
   "outputs": [
    {
     "name": "stdout",
     "output_type": "stream",
     "text": [
      "資料數量 (10841, 13)\n",
      "欄位名稱 Index(['App', 'Category', 'Rating', 'Reviews', 'Size', 'Installs', 'Type',\n",
      "       'Price', 'Content Rating', 'Genres', 'Last Updated', 'Current Ver',\n",
      "       'Android Ver'],\n",
      "      dtype='object')\n",
      "------------------------\n",
      "平均數 4.193338315362448\n",
      "中位數 4.3\n",
      "取得前一百名應用程式的平均數 5.14\n"
     ]
    }
   ],
   "source": [
    "import pandas as pd\n",
    "\n",
    "# 讀取資料\n",
    "data = pd.read_csv(\"C:/Users/JEFF TU/Downloads/googleplaystore.csv\")\n",
    "\n",
    "# 觀察資料\n",
    "print(\"資料數量\", data.shape)\n",
    "print(\"欄位名稱\", data.columns)\n",
    "print(\"------------------------\")\n",
    "\n",
    "# 分析資料：關於 Rating 的各種統計數據\n",
    "print(\"平均數\", data[\"Rating\"].mean())\n",
    "print(\"中位數\", data[\"Rating\"].median())\n",
    "print(\"取得前一百名應用程式的平均數\", data[\"Rating\"].nlargest(100).mean())\n"
   ]
  },
  {
   "cell_type": "code",
   "execution_count": 139,
   "metadata": {},
   "outputs": [
    {
     "data": {
      "text/html": [
       "<div>\n",
       "<style scoped>\n",
       "    .dataframe tbody tr th:only-of-type {\n",
       "        vertical-align: middle;\n",
       "    }\n",
       "\n",
       "    .dataframe tbody tr th {\n",
       "        vertical-align: top;\n",
       "    }\n",
       "\n",
       "    .dataframe thead th {\n",
       "        text-align: right;\n",
       "    }\n",
       "</style>\n",
       "<table border=\"1\" class=\"dataframe\">\n",
       "  <thead>\n",
       "    <tr style=\"text-align: right;\">\n",
       "      <th></th>\n",
       "      <th>App</th>\n",
       "      <th>Category</th>\n",
       "      <th>Rating</th>\n",
       "      <th>Reviews</th>\n",
       "      <th>Size</th>\n",
       "      <th>Installs</th>\n",
       "      <th>Type</th>\n",
       "      <th>Price</th>\n",
       "      <th>Content Rating</th>\n",
       "      <th>Genres</th>\n",
       "      <th>Last Updated</th>\n",
       "      <th>Current Ver</th>\n",
       "      <th>Android Ver</th>\n",
       "    </tr>\n",
       "  </thead>\n",
       "  <tbody>\n",
       "    <tr>\n",
       "      <th>10472</th>\n",
       "      <td>Life Made WI-Fi Touchscreen Photo Frame</td>\n",
       "      <td>1.9</td>\n",
       "      <td>19.0</td>\n",
       "      <td>3.0M</td>\n",
       "      <td>1,000+</td>\n",
       "      <td>Free</td>\n",
       "      <td>0</td>\n",
       "      <td>Everyone</td>\n",
       "      <td>NaN</td>\n",
       "      <td>February 11, 2018</td>\n",
       "      <td>1.0.19</td>\n",
       "      <td>4.0 and up</td>\n",
       "      <td>NaN</td>\n",
       "    </tr>\n",
       "  </tbody>\n",
       "</table>\n",
       "</div>"
      ],
      "text/plain": [
       "                                           App Category  Rating Reviews  \\\n",
       "10472  Life Made WI-Fi Touchscreen Photo Frame      1.9    19.0    3.0M   \n",
       "\n",
       "         Size Installs Type     Price Content Rating             Genres  \\\n",
       "10472  1,000+     Free    0  Everyone            NaN  February 11, 2018   \n",
       "\n",
       "      Last Updated Current Ver Android Ver  \n",
       "10472       1.0.19  4.0 and up         NaN  "
      ]
     },
     "execution_count": 139,
     "metadata": {},
     "output_type": "execute_result"
    }
   ],
   "source": [
    "# 有奇怪的資料 rating 大於 5\n",
    "data[data[\"Rating\"] > 5]"
   ]
  },
  {
   "cell_type": "code",
   "execution_count": 140,
   "metadata": {},
   "outputs": [
    {
     "name": "stdout",
     "output_type": "stream",
     "text": [
      "取得前一百名應用程式的平均數 5.0\n"
     ]
    }
   ],
   "source": [
    "# 把奇怪的資料剃除\n",
    "data = data[data[\"Rating\"] <= 5]\n",
    "\n",
    "print(\"取得前一百名應用程式的平均數\", data[\"Rating\"].nlargest(100).mean())"
   ]
  },
  {
   "cell_type": "code",
   "execution_count": 146,
   "metadata": {},
   "outputs": [
    {
     "name": "stdout",
     "output_type": "stream",
     "text": [
      "1,000,000+        1579\n",
      "10,000,000+       1252\n",
      "100,000+          1169\n",
      "10,000+           1054\n",
      "1,000+             907\n",
      "5,000,000+         752\n",
      "100+               719\n",
      "500,000+           539\n",
      "50,000+            479\n",
      "5,000+             477\n",
      "100,000,000+       409\n",
      "10+                386\n",
      "500+               330\n",
      "50,000,000+        289\n",
      "50+                205\n",
      "5+                  82\n",
      "500,000,000+        72\n",
      "1+                  67\n",
      "1,000,000,000+      58\n",
      "0+                  14\n",
      "Free                 1\n",
      "0                    1\n",
      "Name: Installs, dtype: int64\n",
      "平均數 15464338.882564576\n",
      "安裝數量大於十萬的應用程式有幾個： 4950\n"
     ]
    }
   ],
   "source": [
    "# 讀取資料\n",
    "data = pd.read_csv(\"C:/Users/JEFF TU/Downloads/googleplaystore.csv\")\n",
    "\n",
    "# 分析資料：關於 Installs 的各種統計數據\n",
    "print(data[\"Installs\"].value_counts())\n",
    "\n",
    "data[\"Installs\"] = pd.to_numeric(data[\"Installs\"].str.replace(\"[,+]\", \"\").replace(\"Free\", \"\"))\n",
    "\n",
    "print(\"平均數\", data[\"Installs\"].mean())\n",
    "\n",
    "print(\"安裝數量大於十萬的應用程式有幾個：\", data[data[\"Installs\"] > 100000].shape[0])"
   ]
  },
  {
   "cell_type": "code",
   "execution_count": 161,
   "metadata": {},
   "outputs": [
    {
     "name": "stdout",
     "output_type": "stream",
     "text": [
      "請輸入關鍵字H\n",
      "包含關鍵字的應用程式數量： 3951\n"
     ]
    }
   ],
   "source": [
    "# 關鍵字搜尋\n",
    "keyword = input(\"請輸入關鍵字\")\n",
    "condition = data[\"App\"].str.contains(keyword, case = False)\n",
    "print(\"包含關鍵字的應用程式數量：\", data[condition][\"App\"].shape[0])"
   ]
  },
  {
   "cell_type": "code",
   "execution_count": null,
   "metadata": {},
   "outputs": [],
   "source": []
  },
  {
   "cell_type": "code",
   "execution_count": 30,
   "metadata": {},
   "outputs": [
    {
     "data": {
      "text/plain": [
       "3"
      ]
     },
     "execution_count": 30,
     "metadata": {},
     "output_type": "execute_result"
    }
   ],
   "source": [
    "7 //2"
   ]
  },
  {
   "cell_type": "code",
   "execution_count": null,
   "metadata": {},
   "outputs": [],
   "source": []
  }
 ],
 "metadata": {
  "kernelspec": {
   "display_name": "Python 3",
   "language": "python",
   "name": "python3"
  },
  "language_info": {
   "codemirror_mode": {
    "name": "ipython",
    "version": 3
   },
   "file_extension": ".py",
   "mimetype": "text/x-python",
   "name": "python",
   "nbconvert_exporter": "python",
   "pygments_lexer": "ipython3",
   "version": "3.7.3"
  }
 },
 "nbformat": 4,
 "nbformat_minor": 2
}
