{
 "cells": [
  {
   "cell_type": "code",
   "execution_count": 9,
   "metadata": {},
   "outputs": [],
   "source": [
    "from sqlalchemy import create_engine\n",
    "import pyodbc # database connection & query\n",
    "import pandas as pd"
   ]
  },
  {
   "cell_type": "markdown",
   "metadata": {},
   "source": [
    "# 使用 PyODBC 連資料庫，需事先安裝 ODBC Driver"
   ]
  },
  {
   "cell_type": "code",
   "execution_count": 22,
   "metadata": {},
   "outputs": [],
   "source": [
    "# 示範從 database: couese_data 撈資料表\n",
    "\n",
    "conn_str = (\n",
    "    \"DRIVER={PostgreSQL Unicode};\"\n",
    "    \"DATABASE=course_data;\"\n",
    "    \"UID=postgres;\"\n",
    "    \"PWD=jeff1026;\"\n",
    "    \"SERVER=localhost;\"\n",
    "    \"PORT=5432;\"\n",
    "    )\n",
    "\n",
    "try:\n",
    "    conn = pyodbc.connect(conn_str)\n",
    "\n",
    "    query = \"\"\"\n",
    "\n",
    "    SELECT * from sofasoda\n",
    "\n",
    "    \"\"\"\n",
    "    df = pd.read_sql_query(query, conn)\n",
    "except Exception as e:\n",
    "    print('Data extraction error: ', e)\n",
    "finally:\n",
    "    conn.close() # 最後須關掉資料庫連接，節省資源"
   ]
  },
  {
   "cell_type": "code",
   "execution_count": 23,
   "metadata": {},
   "outputs": [
    {
     "data": {
      "text/html": [
       "<div>\n",
       "<style scoped>\n",
       "    .dataframe tbody tr th:only-of-type {\n",
       "        vertical-align: middle;\n",
       "    }\n",
       "\n",
       "    .dataframe tbody tr th {\n",
       "        vertical-align: top;\n",
       "    }\n",
       "\n",
       "    .dataframe thead th {\n",
       "        text-align: right;\n",
       "    }\n",
       "</style>\n",
       "<table border=\"1\" class=\"dataframe\">\n",
       "  <thead>\n",
       "    <tr style=\"text-align: right;\">\n",
       "      <th></th>\n",
       "      <th>created_at</th>\n",
       "      <th>url</th>\n",
       "      <th>cookies</th>\n",
       "      <th>session_id</th>\n",
       "    </tr>\n",
       "  </thead>\n",
       "  <tbody>\n",
       "    <tr>\n",
       "      <th>0</th>\n",
       "      <td>2022-06-02 08:00:00</td>\n",
       "      <td>https://www.sofasoda.com/mentorship</td>\n",
       "      <td>20000</td>\n",
       "      <td>01</td>\n",
       "    </tr>\n",
       "    <tr>\n",
       "      <th>1</th>\n",
       "      <td>2022-06-01 07:00:00</td>\n",
       "      <td>https://www.sofasoda.com/mentorship/vison</td>\n",
       "      <td>10000</td>\n",
       "      <td>01</td>\n",
       "    </tr>\n",
       "    <tr>\n",
       "      <th>2</th>\n",
       "      <td>2022-06-01 08:00:00</td>\n",
       "      <td>https://www.sofasoda.com/mentorship</td>\n",
       "      <td>10000</td>\n",
       "      <td>01</td>\n",
       "    </tr>\n",
       "    <tr>\n",
       "      <th>3</th>\n",
       "      <td>2022-06-01 08:10:00</td>\n",
       "      <td>https://www.sofasoda.com/mentorship/vison</td>\n",
       "      <td>10000</td>\n",
       "      <td>01</td>\n",
       "    </tr>\n",
       "    <tr>\n",
       "      <th>4</th>\n",
       "      <td>2022-06-01 08:20:00</td>\n",
       "      <td>https://www.sofasoda.com/mentorship/design</td>\n",
       "      <td>10000</td>\n",
       "      <td>01</td>\n",
       "    </tr>\n",
       "    <tr>\n",
       "      <th>5</th>\n",
       "      <td>2022-06-03 08:00:00</td>\n",
       "      <td>https://www.sofasoda.com/mentorship</td>\n",
       "      <td>30000</td>\n",
       "      <td>01</td>\n",
       "    </tr>\n",
       "    <tr>\n",
       "      <th>6</th>\n",
       "      <td>2022-06-03 08:10:00</td>\n",
       "      <td>https://www.sofasoda.com/mentorship/design</td>\n",
       "      <td>30000</td>\n",
       "      <td>01</td>\n",
       "    </tr>\n",
       "  </tbody>\n",
       "</table>\n",
       "</div>"
      ],
      "text/plain": [
       "           created_at                                         url cookies  \\\n",
       "0 2022-06-02 08:00:00         https://www.sofasoda.com/mentorship   20000   \n",
       "1 2022-06-01 07:00:00   https://www.sofasoda.com/mentorship/vison   10000   \n",
       "2 2022-06-01 08:00:00         https://www.sofasoda.com/mentorship   10000   \n",
       "3 2022-06-01 08:10:00   https://www.sofasoda.com/mentorship/vison   10000   \n",
       "4 2022-06-01 08:20:00  https://www.sofasoda.com/mentorship/design   10000   \n",
       "5 2022-06-03 08:00:00         https://www.sofasoda.com/mentorship   30000   \n",
       "6 2022-06-03 08:10:00  https://www.sofasoda.com/mentorship/design   30000   \n",
       "\n",
       "  session_id  \n",
       "0         01  \n",
       "1         01  \n",
       "2         01  \n",
       "3         01  \n",
       "4         01  \n",
       "5         01  \n",
       "6         01  "
      ]
     },
     "execution_count": 23,
     "metadata": {},
     "output_type": "execute_result"
    }
   ],
   "source": [
    "df"
   ]
  },
  {
   "cell_type": "markdown",
   "metadata": {},
   "source": [
    "# 將資料 Load 回資料庫"
   ]
  },
  {
   "cell_type": "code",
   "execution_count": 24,
   "metadata": {},
   "outputs": [
    {
     "name": "stdout",
     "output_type": "stream",
     "text": [
      "end\n"
     ]
    }
   ],
   "source": [
    "import psycopg2 # postgresql 引擎需調用此套件\n",
    "\n",
    "uid = 'postgres' # login account\n",
    "pwd = 'jeff1026' # account password, it's better to store into env\n",
    "server = 'localhost' # server name\n",
    "port = '5432' # port number\n",
    "database = 'AdventureWorks' # data basename\n",
    "\n",
    "try:\n",
    "    engine_str = (\n",
    "        f\"postgresql://{uid}:{pwd}@{server}:{port}/{database}\"\n",
    "    )\n",
    "\n",
    "    engine = create_engine(engine_str)\n",
    "\n",
    "    # Pandas 的 dataframe 內建 to_sql function，輸入 table name, engine ... 即可將資料回建\n",
    "    # 將撈下來的資料丟回 AdventureWorks 資料庫中建表\n",
    "    df.to_sql('test_sofasoda', engine, if_exists='replace', index=False)\n",
    "    \n",
    "except Exception as e:\n",
    "    print('Data load error', e)\n",
    "finally:\n",
    "    print('end')"
   ]
  }
 ],
 "metadata": {
  "kernelspec": {
   "display_name": "Python 3",
   "language": "python",
   "name": "python3"
  },
  "language_info": {
   "codemirror_mode": {
    "name": "ipython",
    "version": 3
   },
   "file_extension": ".py",
   "mimetype": "text/x-python",
   "name": "python",
   "nbconvert_exporter": "python",
   "pygments_lexer": "ipython3",
   "version": "3.7.3"
  }
 },
 "nbformat": 4,
 "nbformat_minor": 2
}
