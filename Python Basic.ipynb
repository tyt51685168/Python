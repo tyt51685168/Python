{
 "cells": [
  {
   "cell_type": "code",
   "execution_count": 11,
   "metadata": {
    "scrolled": false
   },
   "outputs": [
    {
     "name": "stdout",
     "output_type": "stream",
     "text": [
      "hello \n",
      "world\n"
     ]
    }
   ],
   "source": [
    "print(\"hello \\nworld\")"
   ]
  },
  {
   "cell_type": "markdown",
   "metadata": {},
   "source": [
    "# 字串"
   ]
  },
  {
   "cell_type": "code",
   "execution_count": 12,
   "metadata": {
    "scrolled": true
   },
   "outputs": [
    {
     "data": {
      "text/plain": [
       "'H'"
      ]
     },
     "execution_count": 12,
     "metadata": {},
     "output_type": "execute_result"
    }
   ],
   "source": [
    "test = 'HELLO'\n",
    "test[0] # index 從 0 開始"
   ]
  },
  {
   "cell_type": "code",
   "execution_count": 13,
   "metadata": {},
   "outputs": [
    {
     "name": "stdout",
     "output_type": "stream",
     "text": [
      "HEllO\n",
      "AAAHELLO\n",
      "HELLO\n",
      "hello\n",
      "True\n",
      "False\n"
     ]
    }
   ],
   "source": [
    "# .replace 字串內所有字元都替換\n",
    "print( test.replace(\"L\", \"l\") )\n",
    "\n",
    "# 使用 + 連接字串\n",
    "print( \"AAA\" + test) \n",
    "\n",
    "# upper & lower 將字串變全部大寫或小寫\n",
    "print( test.upper() )\n",
    "print( test.lower() )\n",
    "\n",
    "# is.upper & is.lower 判斷字串是否全部的字元皆為大寫或小寫\n",
    "print( test.isupper() )\n",
    "print( test.islower() )"
   ]
  },
  {
   "cell_type": "markdown",
   "metadata": {},
   "source": [
    "# 數字"
   ]
  },
  {
   "cell_type": "code",
   "execution_count": 14,
   "metadata": {},
   "outputs": [
    {
     "name": "stdout",
     "output_type": "stream",
     "text": [
      "1\n",
      "3\n",
      "16.0\n",
      "16\n",
      "8\n"
     ]
    }
   ],
   "source": [
    "# 整數除法\n",
    "print(8//5)\n",
    "\n",
    "# 取餘數\n",
    "print(8%5)\n",
    "\n",
    "# 次方\n",
    "print( pow(2, 4) )\n",
    "print(2**4)\n",
    "\n",
    "# 絕對值\n",
    "print( abs(-8) )"
   ]
  },
  {
   "cell_type": "code",
   "execution_count": 15,
   "metadata": {},
   "outputs": [
    {
     "data": {
      "text/plain": [
       "2.449489742783178"
      ]
     },
     "execution_count": 15,
     "metadata": {},
     "output_type": "execute_result"
    }
   ],
   "source": [
    "# 最大值\n",
    "max(2,4,6)\n",
    "\n",
    "# 最小值\n",
    "min(2,4,6)\n",
    "\n",
    "# 四捨五入\n",
    "round(4.546, 2)\n",
    "\n",
    "# 無條件捨去\n",
    "from math import *\n",
    "floor(5.1)\n",
    "\n",
    "# 無條件進位\n",
    "from math import *\n",
    "ceil(5.1)\n",
    "\n",
    "# 開根號\n",
    "from math import *\n",
    "sqrt(6)"
   ]
  },
  {
   "cell_type": "markdown",
   "metadata": {},
   "source": [
    "# 建立一個基本計算機"
   ]
  },
  {
   "cell_type": "code",
   "execution_count": 16,
   "metadata": {},
   "outputs": [
    {
     "name": "stdout",
     "output_type": "stream",
     "text": [
      "輸入第一個數字\n",
      "輸入第二個數字\n"
     ]
    },
    {
     "ename": "ValueError",
     "evalue": "could not convert string to float: ",
     "output_type": "error",
     "traceback": [
      "\u001b[1;31m---------------------------------------------------------------------------\u001b[0m",
      "\u001b[1;31mValueError\u001b[0m                                Traceback (most recent call last)",
      "\u001b[1;32m<ipython-input-16-7e2ad9ead44c>\u001b[0m in \u001b[0;36m<module>\u001b[1;34m\u001b[0m\n\u001b[0;32m      1\u001b[0m \u001b[0mnumber1\u001b[0m \u001b[1;33m=\u001b[0m \u001b[0minput\u001b[0m\u001b[1;33m(\u001b[0m\u001b[1;34m\"輸入第一個數字\"\u001b[0m\u001b[1;33m)\u001b[0m\u001b[1;33m\u001b[0m\u001b[1;33m\u001b[0m\u001b[0m\n\u001b[0;32m      2\u001b[0m \u001b[0mnumber2\u001b[0m \u001b[1;33m=\u001b[0m \u001b[0minput\u001b[0m\u001b[1;33m(\u001b[0m\u001b[1;34m\"輸入第二個數字\"\u001b[0m\u001b[1;33m)\u001b[0m\u001b[1;33m\u001b[0m\u001b[1;33m\u001b[0m\u001b[0m\n\u001b[1;32m----> 3\u001b[1;33m \u001b[0mprint\u001b[0m\u001b[1;33m(\u001b[0m\u001b[0mfloat\u001b[0m\u001b[1;33m(\u001b[0m\u001b[0mnumber1\u001b[0m\u001b[1;33m)\u001b[0m \u001b[1;33m+\u001b[0m \u001b[0mfloat\u001b[0m\u001b[1;33m(\u001b[0m\u001b[0mnumber2\u001b[0m\u001b[1;33m)\u001b[0m\u001b[1;33m)\u001b[0m\u001b[1;33m\u001b[0m\u001b[1;33m\u001b[0m\u001b[0m\n\u001b[0m",
      "\u001b[1;31mValueError\u001b[0m: could not convert string to float: "
     ]
    }
   ],
   "source": [
    "number1 = input(\"輸入第一個數字\")\n",
    "number2 = input(\"輸入第二個數字\")\n",
    "print(float(number1) + float(number2))"
   ]
  },
  {
   "cell_type": "markdown",
   "metadata": {},
   "source": [
    "# List"
   ]
  },
  {
   "cell_type": "code",
   "execution_count": 17,
   "metadata": {},
   "outputs": [
    {
     "data": {
      "text/plain": [
       "1"
      ]
     },
     "execution_count": 17,
     "metadata": {},
     "output_type": "execute_result"
    }
   ],
   "source": [
    "# list\n",
    "temp_list = [1, 2, 4]\n",
    "temp_list = [\"AAAB\", 90, True, 80] # list 可存放多種不同型態的資料\n",
    "temp_list_2 = [\"ASD\", \"FGH\"]\n",
    "\n",
    "type(temp_list)\n",
    "\n",
    "temp_list[0] # 透過 index 取值\n",
    "temp_list[-1] # -1 開始是倒數第一位\n",
    "temp_list[0:2] # 取 0~1 位，包頭不包尾\n",
    "temp_list[1:] # 從第 1 位開始到結尾\n",
    "temp_list[:3] # 從第 3 位開始往前取，但不包尾 (因為 index 從 0 開始，所以這裡的 3 指的是 80，回傳結果不包尾 80)\n",
    "temp_list[0][3] # 取出字串的第 3 位字元 \"B\"\n",
    "\n",
    "temp_list.extend(temp_list_2) # extend 會把 object 中的值取出後放進去 list 中\n",
    "\n",
    "temp_list.append(temp_list_2) # append 則會直接把 object 原封不動放進去 list 中，所以可以觀察到第七位是一個 list 的方式存在\n",
    "\n",
    "temp_list.insert(5, 90) # 把 90 插入在第 5 位\n",
    "\n",
    "temp_list.remove(90) # 把 list 中的 \"第一個\" 90 移除\n",
    "\n",
    "temp_list.pop() # 移除 list 最後一位\n",
    "\n",
    "# temp_list.sort() # 排序\n",
    "\n",
    "temp_list.reverse() # 排序顛倒\n",
    "\n",
    "temp_list.index(90) # 回傳第一個 90 的 index\n",
    "\n",
    "temp_list.count(90) # 回傳 list 一共有幾個 90\n",
    "\n",
    "# temp_list.clear() # 清除 list 內容\n"
   ]
  },
  {
   "cell_type": "markdown",
   "metadata": {},
   "source": [
    "# Tuple 與 List 的差別在於，tuple 中的元素不能被修改\n",
    "## 可以防止資料被意外修改"
   ]
  },
  {
   "cell_type": "code",
   "execution_count": 18,
   "metadata": {},
   "outputs": [
    {
     "ename": "TypeError",
     "evalue": "'tuple' object does not support item assignment",
     "output_type": "error",
     "traceback": [
      "\u001b[1;31m---------------------------------------------------------------------------\u001b[0m",
      "\u001b[1;31mTypeError\u001b[0m                                 Traceback (most recent call last)",
      "\u001b[1;32m<ipython-input-18-ae8ae6a4f6a1>\u001b[0m in \u001b[0;36m<module>\u001b[1;34m\u001b[0m\n\u001b[0;32m      1\u001b[0m \u001b[0mtemp_tuple\u001b[0m \u001b[1;33m=\u001b[0m \u001b[1;33m(\u001b[0m\u001b[1;36m1\u001b[0m\u001b[1;33m,\u001b[0m \u001b[1;36m3\u001b[0m\u001b[1;33m,\u001b[0m \u001b[1;36m5\u001b[0m\u001b[1;33m)\u001b[0m\u001b[1;33m\u001b[0m\u001b[1;33m\u001b[0m\u001b[0m\n\u001b[0;32m      2\u001b[0m \u001b[1;33m\u001b[0m\u001b[0m\n\u001b[1;32m----> 3\u001b[1;33m \u001b[0mtemp_tuple\u001b[0m\u001b[1;33m[\u001b[0m\u001b[1;36m1\u001b[0m\u001b[1;33m]\u001b[0m \u001b[1;33m=\u001b[0m \u001b[1;36m5\u001b[0m\u001b[1;33m\u001b[0m\u001b[1;33m\u001b[0m\u001b[0m\n\u001b[0m",
      "\u001b[1;31mTypeError\u001b[0m: 'tuple' object does not support item assignment"
     ]
    }
   ],
   "source": [
    "temp_tuple = (1, 3, 5)\n",
    "\n",
    "temp_tuple[1] = 5\n"
   ]
  },
  {
   "cell_type": "markdown",
   "metadata": {},
   "source": [
    "# Function"
   ]
  },
  {
   "cell_type": "code",
   "execution_count": 19,
   "metadata": {},
   "outputs": [
    {
     "name": "stdout",
     "output_type": "stream",
     "text": [
      "Hello KKK 你今年 99 歲\n"
     ]
    }
   ],
   "source": [
    "def hello(name, age):\n",
    "    print('Hello ' + name + \" 你今年 \" + str(age) + \" 歲\")\n",
    "    \n",
    "hello('KKK', 99)"
   ]
  },
  {
   "cell_type": "code",
   "execution_count": 20,
   "metadata": {},
   "outputs": [
    {
     "data": {
      "text/plain": [
       "10"
      ]
     },
     "execution_count": 20,
     "metadata": {},
     "output_type": "execute_result"
    }
   ],
   "source": [
    "def add(num1 = 0, num2 = 0): # 函式預設值\n",
    "    return num1 + num2\n",
    "    \n",
    "add(4,6)"
   ]
  },
  {
   "cell_type": "code",
   "execution_count": 21,
   "metadata": {},
   "outputs": [
    {
     "name": "stdout",
     "output_type": "stream",
     "text": [
      "hi\n",
      "hello\n"
     ]
    }
   ],
   "source": [
    "def say(*msgs): # 無限/不定 長度的傳入參數\n",
    "    for msg in msgs:\n",
    "        print(msg)\n",
    "        \n",
    "say(\"hi\", \"hello\")"
   ]
  },
  {
   "cell_type": "markdown",
   "metadata": {},
   "source": [
    "# if 判斷句"
   ]
  },
  {
   "cell_type": "code",
   "execution_count": 22,
   "metadata": {},
   "outputs": [
    {
     "name": "stdout",
     "output_type": "stream",
     "text": [
      "去吃飯\n"
     ]
    }
   ],
   "source": [
    "hungry = True\n",
    "\n",
    "if hungry:\n",
    "    print(\"去吃飯\")"
   ]
  },
  {
   "cell_type": "code",
   "execution_count": 23,
   "metadata": {},
   "outputs": [
    {
     "name": "stdout",
     "output_type": "stream",
     "text": [
      "走路去上班\n"
     ]
    }
   ],
   "source": [
    "rainy = False\n",
    "\n",
    "if rainy:\n",
    "    print(\"開車去上班\")\n",
    "else:\n",
    "    print(\"走路去上班\")\n",
    "    \n",
    "    "
   ]
  },
  {
   "cell_type": "code",
   "execution_count": 24,
   "metadata": {},
   "outputs": [
    {
     "name": "stdout",
     "output_type": "stream",
     "text": [
      "1000\n"
     ]
    }
   ],
   "source": [
    "score = 100\n",
    "\n",
    "if score == 100:\n",
    "    print(1000)\n",
    "elif score >= 80:\n",
    "    print(500)\n",
    "elif score >= 60:\n",
    "    print(100)\n",
    "else:\n",
    "    print(-300)"
   ]
  },
  {
   "cell_type": "code",
   "execution_count": 25,
   "metadata": {},
   "outputs": [
    {
     "name": "stdout",
     "output_type": "stream",
     "text": [
      "-100\n",
      "1000\n",
      "1000\n"
     ]
    }
   ],
   "source": [
    "if score == 100 and rainy:\n",
    "    print(1000)\n",
    "else:\n",
    "    print(-100)\n",
    "    \n",
    "if score == 100 or rainy:\n",
    "    print(1000)\n",
    "else:\n",
    "    print(-100)\n",
    "    \n",
    "if score != 100 or not(rainy):\n",
    "    print(1000)\n",
    "else:\n",
    "    print(-100)"
   ]
  },
  {
   "cell_type": "markdown",
   "metadata": {},
   "source": [
    "# 進階計算機"
   ]
  },
  {
   "cell_type": "code",
   "execution_count": 26,
   "metadata": {},
   "outputs": [
    {
     "name": "stdout",
     "output_type": "stream",
     "text": [
      "輸入第一個數字\n"
     ]
    },
    {
     "ename": "ValueError",
     "evalue": "could not convert string to float: ",
     "output_type": "error",
     "traceback": [
      "\u001b[1;31m---------------------------------------------------------------------------\u001b[0m",
      "\u001b[1;31mValueError\u001b[0m                                Traceback (most recent call last)",
      "\u001b[1;32m<ipython-input-26-4b564adda79a>\u001b[0m in \u001b[0;36m<module>\u001b[1;34m\u001b[0m\n\u001b[1;32m----> 1\u001b[1;33m \u001b[0mnum1\u001b[0m \u001b[1;33m=\u001b[0m \u001b[0mfloat\u001b[0m\u001b[1;33m(\u001b[0m\u001b[0minput\u001b[0m\u001b[1;33m(\u001b[0m\u001b[1;34m\"輸入第一個數字\"\u001b[0m\u001b[1;33m)\u001b[0m\u001b[1;33m)\u001b[0m\u001b[1;33m\u001b[0m\u001b[1;33m\u001b[0m\u001b[0m\n\u001b[0m\u001b[0;32m      2\u001b[0m \u001b[0mop\u001b[0m   \u001b[1;33m=\u001b[0m \u001b[0minput\u001b[0m\u001b[1;33m(\u001b[0m\u001b[1;34m\"請輸入運算符號: \"\u001b[0m\u001b[1;33m)\u001b[0m\u001b[1;33m\u001b[0m\u001b[1;33m\u001b[0m\u001b[0m\n\u001b[0;32m      3\u001b[0m \u001b[0mnum2\u001b[0m \u001b[1;33m=\u001b[0m \u001b[0mfloat\u001b[0m\u001b[1;33m(\u001b[0m\u001b[0minput\u001b[0m\u001b[1;33m(\u001b[0m\u001b[1;34m\"輸入第二個數字\"\u001b[0m\u001b[1;33m)\u001b[0m\u001b[1;33m)\u001b[0m\u001b[1;33m\u001b[0m\u001b[1;33m\u001b[0m\u001b[0m\n\u001b[0;32m      4\u001b[0m \u001b[1;33m\u001b[0m\u001b[0m\n\u001b[0;32m      5\u001b[0m \u001b[1;32mif\u001b[0m \u001b[0mop\u001b[0m \u001b[1;33m==\u001b[0m \u001b[1;34m\"+\"\u001b[0m\u001b[1;33m:\u001b[0m\u001b[1;33m\u001b[0m\u001b[1;33m\u001b[0m\u001b[0m\n",
      "\u001b[1;31mValueError\u001b[0m: could not convert string to float: "
     ]
    }
   ],
   "source": [
    "num1 = float(input(\"輸入第一個數字\"))\n",
    "op   = input(\"請輸入運算符號: \")\n",
    "num2 = float(input(\"輸入第二個數字\"))\n",
    "\n",
    "if op == \"+\":\n",
    "    print(num1 + num2)\n",
    "elif op == \"-\":\n",
    "    print(num1 - num2)\n",
    "elif op == \"*\":\n",
    "    print(num1 * num2)\n",
    "elif op =='/':\n",
    "    print(num1 / num2)\n",
    "else:\n",
    "    print(\"不支援的運算\")"
   ]
  },
  {
   "cell_type": "markdown",
   "metadata": {},
   "source": [
    "# Set & Dictionary"
   ]
  },
  {
   "cell_type": "code",
   "execution_count": 10,
   "metadata": {},
   "outputs": [
    {
     "name": "stdout",
     "output_type": "stream",
     "text": [
      "True\n",
      "True\n",
      "{4}\n",
      "{3, 4, 5, 6, 7}\n",
      "{3}\n",
      "{3, 5, 6, 7}\n",
      "{'e', 'o', 'h', 'l'}\n",
      "{'蘋果': 'apple', '香蕉': 'Banana', '貓': 'cat', '狗': 'dog', 0: 'AAA'}\n",
      "apple\n",
      "AAA\n",
      "True\n",
      "{3: 6, 4: 8, 5: 10}\n"
     ]
    }
   ],
   "source": [
    "# Set 不會包含重複的值，為沒有順序的資料集合\n",
    "s1 = {3, 4, 3} # print(s1) 只會列出 3, 4\n",
    "s2 = {4, 5, 6, 7}\n",
    "\n",
    "print(3 in s1) # true\n",
    "print(6 not in s1) # true\n",
    "\n",
    "print(s1 & s2) # 交集\n",
    "print(s1 | s2) # 聯集\n",
    "print(s1 - s2) # 差集，從 s1 中減去和 s2 重疊的資料\n",
    "print(s1 ^ s2) # 反交集，取兩個 set 不重疊的資料\n",
    "\n",
    "print(set(\"hello\")) # 把字串改為 set，就可以用不重複的特性取出所有字元\n",
    "\n",
    "# dictionary contains key & value\n",
    "\n",
    "dic = {\"蘋果\":\"apple\", \"香蕉\":\"Banana\", \"貓\":\"cat\", \"狗\":\"dog\", 0:\"AAA\"}\n",
    "\n",
    "print(dic)\n",
    "\n",
    "print(dic[\"蘋果\"])\n",
    "print(dic[0])\n",
    "\n",
    "print(\"蘋果\" in dic) # 判斷 key 是否存在\n",
    "\n",
    "dic[\"奇異果\"] = \"kiwi\" # 字典新增一個 key & value\n",
    "del dic[\"奇異果\"] # 刪除字典中的 key\n",
    "\n",
    "print(  {x:x*2 for x in [3, 4, 5]}  ) # 使用 for 迴圈產生字典內容，key & value 可以是變數"
   ]
  },
  {
   "cell_type": "markdown",
   "metadata": {},
   "source": [
    "# While 迴圈"
   ]
  },
  {
   "cell_type": "code",
   "execution_count": null,
   "metadata": {},
   "outputs": [],
   "source": [
    "i = 1\n",
    "\n",
    "while i <= 5:\n",
    "    print(i)\n",
    "    i = i + 1\n",
    "\n",
    "print(\"迴圈結束\")"
   ]
  },
  {
   "cell_type": "markdown",
   "metadata": {},
   "source": [
    "# 猜數字遊戲"
   ]
  },
  {
   "cell_type": "code",
   "execution_count": null,
   "metadata": {},
   "outputs": [],
   "source": [
    "secret_num = 77\n",
    "guess = None\n",
    "guess_count = 0\n",
    "guess_limit = 3\n",
    "out_of_limit = False\n",
    "\n",
    "while secret_num != guess and not(out_of_limit):\n",
    "    guess_count += 1\n",
    "    if guess_count <= guess_limit:\n",
    "        guess = int(input(\"請猜數字: \"))\n",
    "        if guess > secret_num:\n",
    "            print(\"小一點\")\n",
    "        elif guess < secret_num:\n",
    "            print(\"大一點\")\n",
    "    else:\n",
    "        out_of_limit = True\n",
    "        \n",
    "if out_of_limit:\n",
    "    print(\"你輸了\")\n",
    "else:\n",
    "    print(\"你贏了\")"
   ]
  },
  {
   "cell_type": "markdown",
   "metadata": {},
   "source": [
    "# for 迴圈"
   ]
  },
  {
   "cell_type": "code",
   "execution_count": null,
   "metadata": {},
   "outputs": [],
   "source": [
    "# for 變數 in 字串 or 列表:\n",
    "#    要重複執行的程式碼\n",
    "\n",
    "for letter in \"小白你好\":\n",
    "    print(letter)\n",
    "    \n",
    "for i in [0,1,2,3,4]:\n",
    "    print(i)\n",
    "    \n",
    "for num in range(5): # range 包頭不包尾，0~4\n",
    "    if num %2 == 0:\n",
    "        continue # 直接進行下一圈\n",
    "    print(num)\n",
    "    \n",
    "for num in range(2,7): # range 包頭不包尾，2~6\n",
    "    if num == 4:\n",
    "        break # 直接跳出迴圈\n",
    "    print(num)"
   ]
  },
  {
   "cell_type": "code",
   "execution_count": null,
   "metadata": {},
   "outputs": [],
   "source": [
    "# 寫一個 n 次方的 function\n",
    "def power(base_num, pow_num):\n",
    "    result = base_num\n",
    "    for index in range(pow_num - 1):\n",
    "        result = result * base_num\n",
    "    return result\n",
    "\n",
    "print(power(3, 3))"
   ]
  },
  {
   "cell_type": "markdown",
   "metadata": {},
   "source": [
    "# 二維 list、巢狀迴圈"
   ]
  },
  {
   "cell_type": "code",
   "execution_count": null,
   "metadata": {},
   "outputs": [],
   "source": [
    "nums = [\n",
    "        [0,1,2],\n",
    "        [3,4,5],\n",
    "        [6,7,8],\n",
    "        [9]\n",
    "]\n",
    "\n",
    "print(nums[1][1]) # 第一列第一位\n",
    "\n",
    "for row in nums:\n",
    "    for col in row:\n",
    "        print(col)"
   ]
  },
  {
   "cell_type": "markdown",
   "metadata": {},
   "source": [
    "# 檔案讀取、寫入"
   ]
  },
  {
   "cell_type": "code",
   "execution_count": null,
   "metadata": {},
   "outputs": [],
   "source": [
    "# 絕對路徑： e.g. c:/Users/Jeff Tu/Desktop/Pythom/123.txt   要用反斜線 /\n",
    "# 相對路徑： e.g. 123.txt\n",
    "\n",
    "# open(\"檔案路徑\", mode = \"開啟模式\")\n",
    "# mode = \"r\" 讀取；\"w\" 覆寫；\"a\" append\n",
    "\n",
    "file = open(\"C:/Users/JEFF TU/Desktop/Python/123.txt\", mode = \"r\")\n",
    "\n",
    "print(file.read()) # 讀取全部內容\n",
    "\n",
    "print(file.readline()) # 讀取第一行\n",
    "\n",
    "for line in file:\n",
    "    print(line)\n",
    "\n",
    "print(file.readlines()) # 讀取的內容每行塞入 list 中，並在換行的時候加入 \\n\n",
    "\n",
    "file.close() # 開啟檔案後須關閉，避免佔用資源"
   ]
  },
  {
   "cell_type": "code",
   "execution_count": null,
   "metadata": {},
   "outputs": [],
   "source": [
    "file = open(\"C:/Users/JEFF TU/Desktop/Python/456.txt\", mode = \"w\", encoding = \"utf-8\")\n",
    "file.write(\"你好\")\n",
    "file.close()\n",
    "\n",
    "file = open(\"C:/Users/JEFF TU/Desktop/Python/456.txt\", mode = \"a\", encoding = \"utf-8\")\n",
    "file.write(\"AAA\")\n",
    "file.close()\n",
    "\n",
    "# 這個寫法可以不用 close 檔案，是最佳的檔案操作實務\n",
    "with open(\"C:/Users/JEFF TU/Desktop/Python/456.txt\", mode = \"a\", encoding = \"utf-8\") as file: \n",
    "    file.write(\"BBB\")"
   ]
  },
  {
   "cell_type": "markdown",
   "metadata": {},
   "source": [
    "# 模組"
   ]
  },
  {
   "cell_type": "code",
   "execution_count": null,
   "metadata": {},
   "outputs": [],
   "source": [
    "import sys\n",
    "import numpy as np\n",
    "\n",
    "print(sys.path)"
   ]
  },
  {
   "cell_type": "markdown",
   "metadata": {},
   "source": [
    "# Class & Object"
   ]
  },
  {
   "cell_type": "code",
   "execution_count": null,
   "metadata": {},
   "outputs": [],
   "source": [
    "class Phone:\n",
    "    def __init__(self, os, number, is_waterproof):\n",
    "        self.os = os\n",
    "        self.number = number\n",
    "        self.is_waterproof = is_waterproof\n",
    "        \n",
    "phone1 = Phone(\"iOS\", 123, True)\n",
    "\n",
    "print(phone1.os)\n",
    "print(phone1.number)\n",
    "print(phone1.is_waterproof)\n",
    "\n",
    "phone2 = Phone(\"Android\", 456, False)"
   ]
  },
  {
   "cell_type": "markdown",
   "metadata": {},
   "source": [
    "# 問答程式"
   ]
  },
  {
   "cell_type": "code",
   "execution_count": null,
   "metadata": {},
   "outputs": [],
   "source": [
    "class Question:\n",
    "    def __init__(self, description, answer):\n",
    "        self.description = description\n",
    "        self.answer = answer\n",
    "        \n",
    "test = [\n",
    "    \"1+3=?\\n(a) 2\\n(b) 3\\n(c) 4\\n\\n\",\n",
    "    \"1公尺等於幾公分?\\n(a) 10\\n(b) 100\\n(c) 1000\\n\\n\",\n",
    "    \"香蕉是什麼顏色?\\n(a) 黑色\\n(b) 黃色\\n(c) 白色\\n\\n\"\n",
    "]      \n",
    "\n",
    "questions = [\n",
    "    Question(test[0], \"c\"),\n",
    "    Question(test[1], \"b\"),\n",
    "    Question(test[2], \"b\")\n",
    "]\n",
    "\n",
    "def run_test(questions):\n",
    "    score = 0\n",
    "    for question in questions:\n",
    "        answer = input(question.description)\n",
    "        if answer == question.answer:\n",
    "            score += 1\n",
    "            \n",
    "    print(\"你得到\" + str(score) + \"分，共\" + str(len(questions)) + \"題\")\n",
    "    \n"
   ]
  },
  {
   "cell_type": "code",
   "execution_count": null,
   "metadata": {},
   "outputs": [],
   "source": [
    "run_test(questions)"
   ]
  },
  {
   "cell_type": "markdown",
   "metadata": {},
   "source": [
    "# Class 函式"
   ]
  },
  {
   "cell_type": "code",
   "execution_count": null,
   "metadata": {},
   "outputs": [],
   "source": [
    "class Phone:\n",
    "    def __init__(self, os, number, is_waterproof):\n",
    "        self.os = os\n",
    "        self.number = number\n",
    "        self.is_waterproof = is_waterproof\n",
    "        \n",
    "    def is_ios(self): # 一定要先傳入 self\n",
    "        if self.os == \"ios\":\n",
    "            return True\n",
    "        else:\n",
    "            return False\n",
    "        \n",
    "    def add(self, number1, number2):\n",
    "        return number1 + number2\n",
    "        \n",
    "phone1 = Phone(\"ios\", 123, True)\n",
    "print(phone1.is_ios())\n",
    "print(phone1.add(5, 6))"
   ]
  },
  {
   "cell_type": "markdown",
   "metadata": {},
   "source": [
    "# Class inheritance 繼承 "
   ]
  },
  {
   "cell_type": "code",
   "execution_count": null,
   "metadata": {},
   "outputs": [],
   "source": [
    "class Person:\n",
    "    def __init__(self, name, age):\n",
    "        self.name = name\n",
    "        self.age = age\n",
    "        \n",
    "    def print_name(self):\n",
    "        print(self.name)\n",
    "        \n",
    "    def print_age(self):\n",
    "        print(self.age)\n",
    "\n",
    "\n",
    "class Student(Person): # 繼承的 class 加個括號寫在裡面\n",
    "    def __init__(self, name, age, school): # 初始函式會覆蓋，所以不可以少\n",
    "        self.name = name\n",
    "        self.age = age\n",
    "        self.school = school\n",
    "        \n",
    "    def print_school(self):\n",
    "        print(self.school)\n",
    "        \n",
    "student1 = Student(\"AA\", 87, \"B國小\")\n",
    "student1.print_age()\n"
   ]
  }
 ],
 "metadata": {
  "kernelspec": {
   "display_name": "Python 3",
   "language": "python",
   "name": "python3"
  },
  "language_info": {
   "codemirror_mode": {
    "name": "ipython",
    "version": 3
   },
   "file_extension": ".py",
   "mimetype": "text/x-python",
   "name": "python",
   "nbconvert_exporter": "python",
   "pygments_lexer": "ipython3",
   "version": "3.7.3"
  }
 },
 "nbformat": 4,
 "nbformat_minor": 2
}
