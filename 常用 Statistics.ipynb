{
 "cells": [
  {
   "cell_type": "markdown",
   "metadata": {},
   "source": [
    "# random 亂數"
   ]
  },
  {
   "cell_type": "code",
   "execution_count": 41,
   "metadata": {},
   "outputs": [
    {
     "name": "stdout",
     "output_type": "stream",
     "text": [
      "5\n",
      "1\n",
      "10\n",
      "6\n",
      "1\n",
      "[10, 5, 1]\n",
      "[6, 10, 1]\n",
      "[6, 5, 10]\n",
      "[5, 10, 6]\n",
      "[5, 1, 10]\n",
      "[8, 20, 1, 5]\n",
      "0.007932824294242802\n",
      "0.13870091014165564\n",
      "66.33505732524308\n"
     ]
    }
   ],
   "source": [
    "import random\n",
    "\n",
    "for i in range(5):\n",
    "    data = random.choice([1, 5, 6, 10]) # 每次隨機挑一筆\n",
    "    print(data)\n",
    "    \n",
    "for i in range(5):\n",
    "    data = random.sample([1, 5, 6, 10], 3) # 每次隨機挑 n 筆回傳成 list\n",
    "    print(data)\n",
    "    \n",
    "data = [1, 5, 8, 20]\n",
    "random.shuffle(data) # 隨機調換順序\n",
    "print(data)\n",
    "\n",
    "data = random.random() # 0~1 之間的隨機亂數\n",
    "print(data)\n",
    "\n",
    "data = random.uniform(0.0, 1.0) # 0.0 ~ 1.0 之間的隨機亂數\n",
    "print(data)\n",
    "\n",
    "data = random.normalvariate(100, 10) # 平均數 100，標準差 10 的常態分佈亂數\n",
    "print(data)"
   ]
  },
  {
   "cell_type": "markdown",
   "metadata": {},
   "source": [
    "# statistics 統計"
   ]
  },
  {
   "cell_type": "code",
   "execution_count": 46,
   "metadata": {},
   "outputs": [
    {
     "name": "stdout",
     "output_type": "stream",
     "text": [
      "4\n",
      "36.41820580816296\n",
      "1326.2857142857144\n"
     ]
    }
   ],
   "source": [
    "import statistics as stat\n",
    "\n",
    "# 中位數\n",
    "data = stat.median([1, 2, 3, 4, 5, 8, 100]) \n",
    "print(data)\n",
    "\n",
    "# 標準差\n",
    "data = stat.stdev([1, 2, 3, 4, 5, 8, 100])\n",
    "print(data)\n",
    "\n",
    "# 變異數 (標準差的平方)\n",
    "data = stat.variance([1, 2, 3, 4, 5, 8, 100])\n",
    "print(data)"
   ]
  }
 ],
 "metadata": {
  "kernelspec": {
   "display_name": "Python 3",
   "language": "python",
   "name": "python3"
  },
  "language_info": {
   "codemirror_mode": {
    "name": "ipython",
    "version": 3
   },
   "file_extension": ".py",
   "mimetype": "text/x-python",
   "name": "python",
   "nbconvert_exporter": "python",
   "pygments_lexer": "ipython3",
   "version": "3.7.3"
  }
 },
 "nbformat": 4,
 "nbformat_minor": 2
}
