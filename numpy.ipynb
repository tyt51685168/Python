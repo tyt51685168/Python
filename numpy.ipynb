{
 "cells": [
  {
   "cell_type": "code",
   "execution_count": 2,
   "metadata": {},
   "outputs": [],
   "source": [
    "import numpy as np"
   ]
  },
  {
   "cell_type": "code",
   "execution_count": 7,
   "metadata": {},
   "outputs": [
    {
     "name": "stdout",
     "output_type": "stream",
     "text": [
      "[ 3  4 -5]\n",
      "3\n"
     ]
    }
   ],
   "source": [
    "ndarr = np.array([3, 4, -5])\n",
    "\n",
    "print(ndarr)\n",
    "print(ndarr.size) # 取得資料數量"
   ]
  },
  {
   "cell_type": "code",
   "execution_count": 53,
   "metadata": {},
   "outputs": [
    {
     "name": "stdout",
     "output_type": "stream",
     "text": [
      "[3 2 6 4]\n",
      "[2.12199579e-314 4.24399158e-314 1.06099790e-313 4.24399159e-314]\n",
      "[0. 0. 0.]\n",
      "[1 1 1 1 1]\n",
      "[0 1 2 3 4]\n"
     ]
    }
   ],
   "source": [
    "# 一維陣列\n",
    "data = np.array([3, 2, 6, 4])\n",
    "print(data)\n",
    "\n",
    "data = np.empty(4)  # .empty 資料未指定\n",
    "print(data)\n",
    "\n",
    "data = np.zeros(3)  # .zeros 長度為 n 的 0 陣列\n",
    "print(data)\n",
    "\n",
    "data = np.ones(5, dtype=float)   # .ones 長度為 n 的 1 陣列\n",
    "print(data)\n",
    "\n",
    "data = np.arange(5) # .arange 長度為 n 的連續值陣列\n",
    "print(data)"
   ]
  },
  {
   "cell_type": "code",
   "execution_count": 21,
   "metadata": {},
   "outputs": [
    {
     "name": "stdout",
     "output_type": "stream",
     "text": [
      "[[2 3 2]\n",
      " [1 5 2]\n",
      " [4 2 1]]\n",
      "[[0.00000000e+000 0.00000000e+000 0.00000000e+000]\n",
      " [0.00000000e+000 0.00000000e+000 5.39519685e-321]\n",
      " [1.42410974e-306 2.33419537e-312 2.44031977e-312]]\n",
      "[[1. 1. 1.]\n",
      " [1. 1. 1.]]\n"
     ]
    }
   ],
   "source": [
    "# 二維陣列\n",
    "data = np.array([ # 3*3 二維陣列\n",
    "    [2, 3, 2],\n",
    "    [1, 5, 2],\n",
    "    [4, 2, 1]\n",
    "])\n",
    "print(data)\n",
    "\n",
    "data = np.empty([3, 3]) # 3*3 的資料未指定二維陣列\n",
    "print(data)\n",
    "\n",
    "data = np.ones([2, 3]) # 2*3 的 1 陣列\n",
    "print(data)"
   ]
  },
  {
   "cell_type": "code",
   "execution_count": 25,
   "metadata": {},
   "outputs": [
    {
     "name": "stdout",
     "output_type": "stream",
     "text": [
      "[[[ 3  1]\n",
      "  [ 1  2]]\n",
      "\n",
      " [[ 2  5]\n",
      "  [10  2]]]\n",
      "[[[0. 0. 0.]]\n",
      "\n",
      " [[0. 0. 0.]]\n",
      "\n",
      " [[0. 0. 0.]]]\n"
     ]
    }
   ],
   "source": [
    "# 三維陣列\n",
    "data = np.array([ # 2*2*2 三維陣列\n",
    "   [\n",
    "       [3,1], [1,2]\n",
    "   ],\n",
    "   [\n",
    "       [2,5], [10,2]\n",
    "   ]\n",
    "])\n",
    "print(data)\n",
    "\n",
    "data = np.zeros([3, 1, 3]) # 3*1*3 的 0 陣列\n",
    "print(data)"
   ]
  },
  {
   "cell_type": "markdown",
   "metadata": {},
   "source": [
    "# Elementwise calculation"
   ]
  },
  {
   "cell_type": "code",
   "execution_count": 30,
   "metadata": {},
   "outputs": [
    {
     "name": "stdout",
     "output_type": "stream",
     "text": [
      "[ 4  5 16]\n",
      "[ 3  6 60]\n",
      "[ True False  True]\n",
      "[False False False]\n"
     ]
    }
   ],
   "source": [
    "data1 = np.array([3, 2, 10])\n",
    "data2 = np.array([1, 3, 6])\n",
    "\n",
    "print(data1 + data2)\n",
    "print(data1 * data2)\n",
    "print(data1 > data2)\n",
    "print(data1 == data2)"
   ]
  },
  {
   "cell_type": "markdown",
   "metadata": {},
   "source": [
    "# Matrix calculation"
   ]
  },
  {
   "cell_type": "code",
   "execution_count": 36,
   "metadata": {},
   "outputs": [
    {
     "name": "stdout",
     "output_type": "stream",
     "text": [
      "[[-4 11  6]]\n",
      "[[ 2 -1  3 -2  4  1]\n",
      " [ 6 -3  9 -6 12  3]]\n"
     ]
    }
   ],
   "source": [
    "data1 = np.array([\n",
    "    [1, 3]\n",
    "])\n",
    "\n",
    "data2 = np.array([\n",
    "    [2, -1, 3],\n",
    "    [-2, 4, 1]\n",
    "])\n",
    "\n",
    "result = data1.dot(data2) # 內積\n",
    "result = data1@data2 # 內積，python 3.5 後才能這樣寫\n",
    "print(result)\n",
    "\n",
    "\n",
    "result = np.outer(data1, data2) # 外積\n",
    "print(result)"
   ]
  },
  {
   "cell_type": "markdown",
   "metadata": {},
   "source": [
    "# Statistic"
   ]
  },
  {
   "cell_type": "code",
   "execution_count": null,
   "metadata": {},
   "outputs": [],
   "source": [
    "data = np.array([\n",
    "    [2, 1, 7],\n",
    "    [-5, 3, 8],\n",
    "])\n",
    "\n",
    "print(data.sum()) # 相加所有資料\n",
    "print(data.max())\n",
    "print(data.min())\n",
    "print(data.mean())\n",
    "print(data.std())\n",
    "print(data.cumsum()) # 逐值累加\n",
    "\n",
    "print(data.sum(axis=0)) # 針對 column 做加總\n",
    "print(data.sum(axis=1)) # 針對 row 做加總\n",
    "print(data.max(axis=0)) # 針對 column 找最大值\n",
    "print(data.max(axis=1)) # 針對 row 找最大值\n",
    "\n",
    "# 統計函數都可以用 axis 參數針對 row or column 做運算"
   ]
  },
  {
   "cell_type": "markdown",
   "metadata": {},
   "source": [
    "# 維度 & 形狀操作"
   ]
  },
  {
   "cell_type": "code",
   "execution_count": 73,
   "metadata": {},
   "outputs": [
    {
     "name": "stdout",
     "output_type": "stream",
     "text": [
      "(10,)\n",
      "(2, 3)\n",
      "[[3 1]\n",
      " [1 2]\n",
      " [5 3]]\n",
      "[3 1 1 2 5 3]\n"
     ]
    }
   ],
   "source": [
    "# 觀察資料形狀 (列 & 欄)\n",
    "data = np.ones(10)\n",
    "print(data.shape)\n",
    "\n",
    "data = np.array([\n",
    "    [3, 1, 5],\n",
    "    [1, 2, 3]\n",
    "])\n",
    "print(data.shape)\n",
    "\n",
    "# 資料轉置 (Transpose)\n",
    "data = data.T\n",
    "print(data)\n",
    "\n",
    "# 資料扁平化 (把資料拉成一維)\n",
    "newdata = data.ravel()\n",
    "print(newdata)"
   ]
  },
  {
   "cell_type": "code",
   "execution_count": 91,
   "metadata": {},
   "outputs": [
    {
     "name": "stdout",
     "output_type": "stream",
     "text": [
      "(2, 2, 3)\n",
      "[[ 2  1  3  1]\n",
      " [ 2  3  0  2]\n",
      " [ 1  8  9 10]]\n",
      "\n",
      "------ 我是分隔線 ------\n",
      "\n",
      "[[0. 0. 0. 0. 0. 0.]\n",
      " [0. 0. 0. 0. 0. 0.]\n",
      " [0. 0. 0. 0. 0. 0.]]\n",
      "\n",
      "------ 我是分隔線 ------\n",
      "\n",
      "[[0 1 2]\n",
      " [3 4 5]\n",
      " [6 7 8]]\n"
     ]
    }
   ],
   "source": [
    "# 重塑資料形狀 (reshape)\n",
    "data = np.array([\n",
    "    [\n",
    "        [2, 1, 3],[1, 2, 3]\n",
    "    ],\n",
    "    [\n",
    "        [0, 2, 1],[8, 9, 10]\n",
    "    ]\n",
    "])\n",
    "\n",
    "print(data.shape) # 2*2*3\n",
    "\n",
    "data = data.reshape(3, 4) # 重塑成 3*4\n",
    "print(data)\n",
    "\n",
    "print('\\n------ 我是分隔線 ------\\n')\n",
    "\n",
    "data = np.zeros(18).reshape(3, 6)\n",
    "print(data)\n",
    "\n",
    "print('\\n------ 我是分隔線 ------\\n')\n",
    "\n",
    "data = np.arange(9).reshape(3,3)\n",
    "print(data)"
   ]
  },
  {
   "cell_type": "markdown",
   "metadata": {},
   "source": [
    "# 資料索引 (與 list 相同)"
   ]
  },
  {
   "cell_type": "code",
   "execution_count": 118,
   "metadata": {},
   "outputs": [
    {
     "name": "stdout",
     "output_type": "stream",
     "text": [
      "5\n",
      "-5\n"
     ]
    }
   ],
   "source": [
    "# indexing\n",
    "data = np.array([1, 5, 2, 10])\n",
    "print(data[1]) \n",
    "\n",
    "\n",
    "data = np.array([\n",
    "    [0, 1],\n",
    "    [10, -5],\n",
    "    [2, 6]\n",
    "])\n",
    "\n",
    "print(data[1, 1]) # 取 -5\n"
   ]
  },
  {
   "cell_type": "code",
   "execution_count": 131,
   "metadata": {},
   "outputs": [
    {
     "name": "stdout",
     "output_type": "stream",
     "text": [
      "[-1 -5  2]\n",
      "[-1 -5]\n",
      "[2 3]\n",
      "[-1 -5  2  3]\n"
     ]
    }
   ],
   "source": [
    "# slicing 切片\n",
    "data = np.array([-1, -5, 2, 3])\n",
    "\n",
    "print(data[0:3]) # 取 index 0~2，包頭不包尾\n",
    "print(data[:2]) # 從開頭到 index 1\n",
    "print(data[2:]) # 從 index 2 開始取到最尾\n",
    "print(data[:]) # 全都要"
   ]
  },
  {
   "cell_type": "code",
   "execution_count": 132,
   "metadata": {},
   "outputs": [
    {
     "name": "stdout",
     "output_type": "stream",
     "text": [
      "[[3 4]\n",
      " [5 4]]\n",
      "[1 4]\n"
     ]
    }
   ],
   "source": [
    "# 多維度切片\n",
    "data = np.array([\n",
    "    [0,1,2],\n",
    "    [3,4,5],\n",
    "    [5,4,3],\n",
    "    [2,1,0]\n",
    "])\n",
    "\n",
    "print(data[1:3, 0:2]) # row 取 1~2；column 取 0~1\n",
    "print(data[0:2, 1]) # index 配 slice"
   ]
  },
  {
   "cell_type": "code",
   "execution_count": 147,
   "metadata": {},
   "outputs": [
    {
     "name": "stdout",
     "output_type": "stream",
     "text": [
      "[[ 8  1  3]\n",
      " [-5  5  2]]\n",
      "-------------\n",
      "[[[ 1  3]\n",
      "  [ 5  2]]\n",
      "\n",
      " [[ 1  6]\n",
      "  [ 4 -3]]]\n"
     ]
    }
   ],
   "source": [
    "# 使用 ... 代表全都要\n",
    "data = np.array([\n",
    "    [\n",
    "        [8, 1, 3],\n",
    "        [-5, 5, 2]\n",
    "    ],\n",
    "    \n",
    "    [\n",
    "        [0, 1, 6],\n",
    "        [4, 4, -3]\n",
    "    ]\n",
    "])\n",
    "\n",
    "print(data[0, ...])\n",
    "print('-------------')\n",
    "print(data[..., 1:3])\n",
    "\n",
    "\n",
    "# note: 在維度不高的時候，用逗號分隔維度，用 : 決定要不要取全部就好了\n",
    "# ... 的用途在於中間可以全部都省略"
   ]
  },
  {
   "cell_type": "markdown",
   "metadata": {},
   "source": [
    "# 合併 (Stacking)"
   ]
  },
  {
   "cell_type": "code",
   "execution_count": 151,
   "metadata": {},
   "outputs": [
    {
     "name": "stdout",
     "output_type": "stream",
     "text": [
      "[[ 1  2  3]\n",
      " [ 4  5  6]\n",
      " [ 7  8  9]\n",
      " [10 11 12]]\n",
      "[[ 1  2  3  7  8  9]\n",
      " [ 4  5  6 10 11 12]]\n",
      "[[ 1  2  3  7  8  9 13 14]\n",
      " [ 4  5  6 10 11 12 15 16]]\n"
     ]
    }
   ],
   "source": [
    "# vstack: vertical stacking, 就是把陣列向下合併\n",
    "# hstack: horizontal stacking, 就是把陣列向右合併\n",
    "\n",
    "\n",
    "arr1 = np.array([\n",
    "    [1, 2, 3],\n",
    "    [4, 5, 6]\n",
    "]) # 2*3\n",
    "\n",
    "arr2 = np.array([\n",
    "    [7, 8, 9],\n",
    "    [10, 11, 12]\n",
    "]) # 2*3\n",
    "\n",
    "arr3 = np.array([\n",
    "    [13, 14],\n",
    "    [15, 16]\n",
    "])\n",
    "\n",
    "result1 = np.vstack((arr1, arr2)) # 要放 tuple\n",
    "result2 = np.hstack((arr1, arr2))\n",
    "result3 = np.hstack((arr1, arr2, arr3))\n",
    "\n",
    "print(result1)\n",
    "print(result2)\n",
    "print(result3)"
   ]
  },
  {
   "cell_type": "markdown",
   "metadata": {},
   "source": [
    "# 切割 (Split)"
   ]
  },
  {
   "cell_type": "code",
   "execution_count": 3,
   "metadata": {},
   "outputs": [
    {
     "name": "stdout",
     "output_type": "stream",
     "text": [
      "[array([[ 2,  4,  6,  8, 10, 12]]), array([[ 1,  3,  5,  7,  9, 11]])]\n",
      "[array([[2, 4, 6],\n",
      "       [1, 3, 5]]), array([[ 8, 10, 12],\n",
      "       [ 7,  9, 11]])]\n",
      "[array([[2, 4],\n",
      "       [1, 3]]), array([[6, 8],\n",
      "       [5, 7]]), array([[10, 12],\n",
      "       [ 9, 11]])]\n"
     ]
    }
   ],
   "source": [
    "# vsplit: vertical split, 以第一個維度下去切割 (切 row), 所以這裡並不是垂直的刀往下切的意思, 而是 row by row 的切\n",
    "# hsplit: horizontal split, 以第二個維度下去切割 (切 column), column by column 的切\n",
    "\n",
    "# 將 ndarray 切割後放進一 list 中\n",
    "\n",
    "\n",
    "arr = np.array([\n",
    "    [2,4,6,8,10,12],\n",
    "    [1,3,5,7,9,11]\n",
    "])\n",
    "\n",
    "result1 = np.vsplit(arr, 2) # row by row 切成兩份\n",
    "result2 = np.hsplit(arr, 2) # column by column 切成三份\n",
    "result3 = np.hsplit(arr, 3)\n",
    "\n",
    "print(result1)\n",
    "print(result2)\n",
    "print(result3)\n"
   ]
  },
  {
   "cell_type": "code",
   "execution_count": 32,
   "metadata": {},
   "outputs": [
    {
     "data": {
      "text/plain": [
       "array([3, 5], dtype=int64)"
      ]
     },
     "execution_count": 32,
     "metadata": {},
     "output_type": "execute_result"
    }
   ],
   "source": [
    "a = np.array([1, 3, 7, 8, 2, 6, 0, 1, 2])\n",
    "np.where(np.diff(np.sign(np.diff(a))) == -2)[0] + 1"
   ]
  }
 ],
 "metadata": {
  "kernelspec": {
   "display_name": "Python 3",
   "language": "python",
   "name": "python3"
  },
  "language_info": {
   "codemirror_mode": {
    "name": "ipython",
    "version": 3
   },
   "file_extension": ".py",
   "mimetype": "text/x-python",
   "name": "python",
   "nbconvert_exporter": "python",
   "pygments_lexer": "ipython3",
   "version": "3.7.3"
  }
 },
 "nbformat": 4,
 "nbformat_minor": 2
}
